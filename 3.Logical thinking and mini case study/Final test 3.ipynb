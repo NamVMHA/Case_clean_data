{
 "cells": [
  {
   "cell_type": "markdown",
   "id": "1b2282c7",
   "metadata": {},
   "source": [
    "<h1><font color = 'orange'> I. Logical thinking <font></h1>\n",
    "\n",
    "<font color = 'blue'> <b> a. Các yêu cầu </font>\n",
    "\n",
    "- Tú là một người bán hàng và đang muốn bán mĩ phẩm online trên website ABC.vn\n",
    "- Tú muốn biết liệu công việc kinh doanh của mình trên ABC.vn có hiệu quả không (tổng số đơn hàng và doanh thu mà anh ta sẽ kiếm được thông qua website ABC.vn)\n",
    "- Tú muốn được nhận sự tư vấn từ phía sàn thương mại điện tử ABC.vn (Hỗ trợ đưa ra quyết định có nên kinh doanh tại ABC.vn không, Hỗ trợ về các thông tin và thủ tục để bán hàng) \n",
    "    \n",
    "<font color = 'blue'> <b> b. Giả định </font>    \n",
    "\n",
    "1. Đật câu hỏi:\n",
    " Ta sử dụng hệ thống câu hỏi 5W1H để đặt vấn đề:\n",
    "    - Who: Ai là người muốn bán Mĩ phẩm?, Ai là người muốn mua Mĩ phẩm?\n",
    "    - What: Mặt hàng Tú muốn bán là gì?\n",
    "    - How: Làm thế nào để Tú xong thủ tục đăng kí và bán được hàng của mình nhanh nhất? Làm thế nào để Tú có thể bán được mặt hàng của mình hiệu quả? Tú sẽ gặp các trở ngại nào khu mới bắt đầu, Doanh thu của Tú sau 6 tháng bán tại ABC.vn sẽ là bao nhiêu?\n",
    "    - Where: Phân khúc khách hàng của Tú ở khoảng nào? Sản phẩm của Tú ở khoảng giá nào?\n",
    "    - When: Khi nào thì Tú có thể bán được hàng sau khi hoàn tất thủ tục? Thời gian để Tú chuẩn bị upload nội dung sản phẩn đến khi bán được hàng là bao lâu? Khi nào Tú đạt được 100 đơn hàng đầu tiên?\n",
    "    - Why: Tại sao người mua lại muốn mua mặt hàng của Tú hơn là các người bán khác? \n",
    "2. Tìm hiểu dữ liệu:\n",
    "    - Để giúp Tú đưa ra quyết định ta truy cập kho dữ liệu của ABC.vn (lấy các thông tin về đơn hàng, mặt hàng, giá trị đơn hàng, v.v.)\n",
    "    - Ta sẽ sử dụng bảng tính hoặc cơ sở dữ liệu để lọc filter, clean và transform dữ liệu từ cơ sở dữ liệu của ABC.vn\n",
    "3. Xác định phương pháp phân tích:\n",
    "    - Ta sẽ sử dụng phương pháp phân tích Diagnostic Analytics và dự đoán\n",
    "4. Thực hiện phân tích:\n",
    "    - Ta sử dụng PowerBI hay Python đển tiến hành phân tích dữ liệu đã có\n",
    "5. Đưa ra kết luận:    \n",
    "    - Dựa vào các mốc thời gian quan trọng của những người bán cùng ngành hàng với Tú ở trên Web ABC.vn (Ngày đăng ký, ngày đơn đăng ký của người bán hàng được phê duyệt, Ngày mà người bán hàng phát sinh giao dịch đầu tiên,..) để cho Tú thấy mức độ kinh doanh hiệu quả khi bán trên ABC.vn\n",
    "    - Đưa ra một số giải pháp cho Tú như nên upload hình ảnh và nội dung về sản phẩm để bán hàng vào thời điểm nào, và làm thế nào để Tú có thể bán hàng được ngay sau khi upload nội dung về sản phẩm\n",
    "    - Đưa ra các mức giá, đối tượng khách hàng, số lượng người bán có sản phẩm giống của Tú để hỗ trợ Tú đưa ra quyết định   \n",
    "    - Sau các mốc 3, 6, 9, 12 tháng doanh thu và số lượng của Tú sẽ đạt được"
   ]
  },
  {
   "cell_type": "markdown",
   "id": "bba6b240",
   "metadata": {},
   "source": [
    "<h1><font color = 'orange'> II. Case study <font></h1>\n"
   ]
  },
  {
   "cell_type": "markdown",
   "id": "4a2fde77",
   "metadata": {},
   "source": [
    "**Qua dữ liệu ta thấy một người bán hàng trên ABC.vn thường trải qua các bước sau:**\n",
    "- Đăng ký-> Đợi phê duyệt tài khoản-> Listing sản phẩm (upload thông tin, hình ảnh) -> Chuẩn bị sản phẩm để sẵn sàng bán -> Phát sinh giao dịch\n"
   ]
  },
  {
   "cell_type": "code",
   "execution_count": 26,
   "id": "edc03339",
   "metadata": {},
   "outputs": [
    {
     "data": {
      "text/html": [
       "<div>\n",
       "<style scoped>\n",
       "    .dataframe tbody tr th:only-of-type {\n",
       "        vertical-align: middle;\n",
       "    }\n",
       "\n",
       "    .dataframe tbody tr th {\n",
       "        vertical-align: top;\n",
       "    }\n",
       "\n",
       "    .dataframe thead th {\n",
       "        text-align: right;\n",
       "    }\n",
       "</style>\n",
       "<table border=\"1\" class=\"dataframe\">\n",
       "  <thead>\n",
       "    <tr style=\"text-align: right;\">\n",
       "      <th></th>\n",
       "      <th>Dimension</th>\n",
       "      <th>Giải thích</th>\n",
       "    </tr>\n",
       "  </thead>\n",
       "  <tbody>\n",
       "    <tr>\n",
       "      <th>0</th>\n",
       "      <td>Seller ID</td>\n",
       "      <td>Unique ID của mỗi người bán hàng (seller)</td>\n",
       "    </tr>\n",
       "    <tr>\n",
       "      <th>1</th>\n",
       "      <td>Seller's Main Category</td>\n",
       "      <td>Lĩnh vực kinh doanh chính của người bán hàng(m...</td>\n",
       "    </tr>\n",
       "    <tr>\n",
       "      <th>2</th>\n",
       "      <td>Sign-up Time</td>\n",
       "      <td>Thời gian mà người bán hàng đăng ký trên ABC.v...</td>\n",
       "    </tr>\n",
       "    <tr>\n",
       "      <th>3</th>\n",
       "      <td>Activation Time</td>\n",
       "      <td>Thời gian mà đơn đăng ký của người bán hàng đư...</td>\n",
       "    </tr>\n",
       "    <tr>\n",
       "      <th>4</th>\n",
       "      <td>1st Listing</td>\n",
       "      <td>Lần đầu tiên người bán hàng upload hình ảnh và...</td>\n",
       "    </tr>\n",
       "    <tr>\n",
       "      <th>5</th>\n",
       "      <td>1st Salable</td>\n",
       "      <td>Lần đầu tiên sản phẩm của người bán hàng bắt đ...</td>\n",
       "    </tr>\n",
       "    <tr>\n",
       "      <th>6</th>\n",
       "      <td>1st Transaction</td>\n",
       "      <td>Ngày mà người bán hàng phát sinh giao dịch đầu...</td>\n",
       "    </tr>\n",
       "  </tbody>\n",
       "</table>\n",
       "</div>"
      ],
      "text/plain": [
       "                Dimension                                          Giải thích\n",
       "0               Seller ID           Unique ID của mỗi người bán hàng (seller)\n",
       "1  Seller's Main Category   Lĩnh vực kinh doanh chính của người bán hàng(m...\n",
       "2            Sign-up Time   Thời gian mà người bán hàng đăng ký trên ABC.v...\n",
       "3         Activation Time   Thời gian mà đơn đăng ký của người bán hàng đư...\n",
       "4             1st Listing   Lần đầu tiên người bán hàng upload hình ảnh và...\n",
       "5             1st Salable   Lần đầu tiên sản phẩm của người bán hàng bắt đ...\n",
       "6         1st Transaction   Ngày mà người bán hàng phát sinh giao dịch đầu..."
      ]
     },
     "execution_count": 26,
     "metadata": {},
     "output_type": "execute_result"
    }
   ],
   "source": [
    " #Metadata\n",
    "df_metadata = pd.read_excel(r'D:\\Data Analyst\\Learn\\MindX\\BI12\\Final_test\\3.Logical thinking and mini case study\\data_ecommerce_metadata.xlsx') # / kí tự đặt biệt raw/ rough (để r ở đầu) và file.csv ở cuối\n",
    "df_metadata"
   ]
  },
  {
   "cell_type": "code",
   "execution_count": 1,
   "id": "ea4968d1",
   "metadata": {},
   "outputs": [
    {
     "name": "stdout",
     "output_type": "stream",
     "text": [
      "Completed import lib\n"
     ]
    }
   ],
   "source": [
    "#import thư viện\n",
    "import pandas as pd\n",
    "import numpy as np\n",
    "import matplotlib as plt\n",
    "import matplotlib.pyplot as plt\n",
    "import seaborn as sns\n",
    "print('Completed import lib')"
   ]
  },
  {
   "cell_type": "markdown",
   "id": "424048e3",
   "metadata": {},
   "source": [
    "*Dựa vào các mốc thời gian đã có trong bảng dữ liệu ta tiến hành tính toán số ngày giữa các mốc thời gian của người bán trong bảng dữ liệu bàng excel sau đó import vào Python để phân tích:*\n",
    "\n",
    "   - <b> phe duyet </b> (Thời gian chờ phê duyệt) = Activation Time - Sign-up Time \n",
    "   - **sau thu tuc** (Thời gian từ lúc đăng kí đến lúc bán được đơn đầu tiên) = 1st Transaction - Sign-up Time\n",
    "   - **chuan bi** (Thời gian chuẩn bị sản phẩm để bán) = 1st Salable - 1st Listing\n",
    "   - <b> san pham dau tien </b> (Thời gian bán được sản phẩm đầu tiên ) = 1st Transaction - 1st Salable\n",
    "   \n",
    "<đơn vị: Ngày>"
   ]
  },
  {
   "cell_type": "code",
   "execution_count": 27,
   "id": "b0a0d69f",
   "metadata": {},
   "outputs": [],
   "source": [
    "#import dữ liệu \n",
    "df = pd.read_csv(r'D:\\Data Analyst\\Learn\\MindX\\BI12\\Final_test\\3.Logical thinking and mini case study\\data_ecommerce_BBFF.csv') # / kí tự đặt biệt raw/ rough (để r ở đầu) và file.csv ở cuối"
   ]
  },
  {
   "cell_type": "code",
   "execution_count": 28,
   "id": "7c20948f",
   "metadata": {},
   "outputs": [
    {
     "data": {
      "text/html": [
       "<div>\n",
       "<style scoped>\n",
       "    .dataframe tbody tr th:only-of-type {\n",
       "        vertical-align: middle;\n",
       "    }\n",
       "\n",
       "    .dataframe tbody tr th {\n",
       "        vertical-align: top;\n",
       "    }\n",
       "\n",
       "    .dataframe thead th {\n",
       "        text-align: right;\n",
       "    }\n",
       "</style>\n",
       "<table border=\"1\" class=\"dataframe\">\n",
       "  <thead>\n",
       "    <tr style=\"text-align: right;\">\n",
       "      <th></th>\n",
       "      <th>Seller ID</th>\n",
       "      <th>Sellers Main Category</th>\n",
       "      <th>Sign-up Time</th>\n",
       "      <th>Activation Time</th>\n",
       "      <th>1st Listing</th>\n",
       "      <th>1st Salable</th>\n",
       "      <th>1st Transaction</th>\n",
       "      <th>phe duyet</th>\n",
       "      <th>sau thu tuc</th>\n",
       "      <th>chuan bi</th>\n",
       "      <th>san pham dau tien</th>\n",
       "    </tr>\n",
       "  </thead>\n",
       "  <tbody>\n",
       "    <tr>\n",
       "      <th>0</th>\n",
       "      <td>1</td>\n",
       "      <td>Electronic</td>\n",
       "      <td>9/20/2017</td>\n",
       "      <td>2/2/2018</td>\n",
       "      <td>2/7/2018</td>\n",
       "      <td>10/6/2018</td>\n",
       "      <td>10/10/2018</td>\n",
       "      <td>135</td>\n",
       "      <td>385</td>\n",
       "      <td>241</td>\n",
       "      <td>4</td>\n",
       "    </tr>\n",
       "    <tr>\n",
       "      <th>1</th>\n",
       "      <td>2</td>\n",
       "      <td>BBFF</td>\n",
       "      <td>8/19/2017</td>\n",
       "      <td>5/24/2018</td>\n",
       "      <td>8/13/2018</td>\n",
       "      <td>8/14/2018</td>\n",
       "      <td>9/2/2018</td>\n",
       "      <td>278</td>\n",
       "      <td>379</td>\n",
       "      <td>1</td>\n",
       "      <td>19</td>\n",
       "    </tr>\n",
       "    <tr>\n",
       "      <th>2</th>\n",
       "      <td>3</td>\n",
       "      <td>BBFF</td>\n",
       "      <td>12/4/2017</td>\n",
       "      <td>5/4/2018</td>\n",
       "      <td>10/6/2018</td>\n",
       "      <td>10/10/2018</td>\n",
       "      <td>10/12/2018</td>\n",
       "      <td>151</td>\n",
       "      <td>312</td>\n",
       "      <td>4</td>\n",
       "      <td>2</td>\n",
       "    </tr>\n",
       "    <tr>\n",
       "      <th>3</th>\n",
       "      <td>4</td>\n",
       "      <td>BBFF</td>\n",
       "      <td>10/16/2017</td>\n",
       "      <td>4/23/2018</td>\n",
       "      <td>7/4/2018</td>\n",
       "      <td>7/10/2018</td>\n",
       "      <td>7/10/2018</td>\n",
       "      <td>189</td>\n",
       "      <td>267</td>\n",
       "      <td>6</td>\n",
       "      <td>0</td>\n",
       "    </tr>\n",
       "    <tr>\n",
       "      <th>4</th>\n",
       "      <td>5</td>\n",
       "      <td>BBFF</td>\n",
       "      <td>12/13/2017</td>\n",
       "      <td>7/25/2018</td>\n",
       "      <td>8/30/2018</td>\n",
       "      <td>8/31/2018</td>\n",
       "      <td>9/14/2018</td>\n",
       "      <td>224</td>\n",
       "      <td>275</td>\n",
       "      <td>1</td>\n",
       "      <td>14</td>\n",
       "    </tr>\n",
       "    <tr>\n",
       "      <th>5</th>\n",
       "      <td>6</td>\n",
       "      <td>LifeStyle</td>\n",
       "      <td>1/4/2018</td>\n",
       "      <td>3/21/2018</td>\n",
       "      <td>6/11/2018</td>\n",
       "      <td>9/19/2018</td>\n",
       "      <td>9/20/2018</td>\n",
       "      <td>76</td>\n",
       "      <td>259</td>\n",
       "      <td>100</td>\n",
       "      <td>1</td>\n",
       "    </tr>\n",
       "    <tr>\n",
       "      <th>6</th>\n",
       "      <td>7</td>\n",
       "      <td>BBFF</td>\n",
       "      <td>1/26/2018</td>\n",
       "      <td>3/6/2018</td>\n",
       "      <td>10/1/2018</td>\n",
       "      <td>10/2/2018</td>\n",
       "      <td>10/14/2018</td>\n",
       "      <td>39</td>\n",
       "      <td>261</td>\n",
       "      <td>1</td>\n",
       "      <td>12</td>\n",
       "    </tr>\n",
       "    <tr>\n",
       "      <th>7</th>\n",
       "      <td>8</td>\n",
       "      <td>LifeStyle</td>\n",
       "      <td>11/29/2017</td>\n",
       "      <td>5/10/2018</td>\n",
       "      <td>7/26/2018</td>\n",
       "      <td>7/28/2018</td>\n",
       "      <td>8/4/2018</td>\n",
       "      <td>162</td>\n",
       "      <td>248</td>\n",
       "      <td>2</td>\n",
       "      <td>7</td>\n",
       "    </tr>\n",
       "    <tr>\n",
       "      <th>8</th>\n",
       "      <td>9</td>\n",
       "      <td>BBFF</td>\n",
       "      <td>11/28/2017</td>\n",
       "      <td>4/20/2018</td>\n",
       "      <td>7/23/2018</td>\n",
       "      <td>7/24/2018</td>\n",
       "      <td>8/12/2018</td>\n",
       "      <td>143</td>\n",
       "      <td>257</td>\n",
       "      <td>1</td>\n",
       "      <td>19</td>\n",
       "    </tr>\n",
       "    <tr>\n",
       "      <th>9</th>\n",
       "      <td>10</td>\n",
       "      <td>BBFF</td>\n",
       "      <td>2/2/2018</td>\n",
       "      <td>3/30/2018</td>\n",
       "      <td>3/30/2018</td>\n",
       "      <td>9/27/2018</td>\n",
       "      <td>9/30/2018</td>\n",
       "      <td>56</td>\n",
       "      <td>240</td>\n",
       "      <td>181</td>\n",
       "      <td>3</td>\n",
       "    </tr>\n",
       "  </tbody>\n",
       "</table>\n",
       "</div>"
      ],
      "text/plain": [
       "   Seller ID Sellers Main Category Sign-up Time Activation Time 1st Listing  \\\n",
       "0          1            Electronic    9/20/2017        2/2/2018    2/7/2018   \n",
       "1          2                  BBFF    8/19/2017       5/24/2018   8/13/2018   \n",
       "2          3                  BBFF    12/4/2017        5/4/2018   10/6/2018   \n",
       "3          4                  BBFF   10/16/2017       4/23/2018    7/4/2018   \n",
       "4          5                  BBFF   12/13/2017       7/25/2018   8/30/2018   \n",
       "5          6             LifeStyle     1/4/2018       3/21/2018   6/11/2018   \n",
       "6          7                  BBFF    1/26/2018        3/6/2018   10/1/2018   \n",
       "7          8             LifeStyle   11/29/2017       5/10/2018   7/26/2018   \n",
       "8          9                  BBFF   11/28/2017       4/20/2018   7/23/2018   \n",
       "9         10                  BBFF     2/2/2018       3/30/2018   3/30/2018   \n",
       "\n",
       "  1st Salable 1st Transaction  phe duyet  sau thu tuc  chuan bi  \\\n",
       "0   10/6/2018      10/10/2018        135          385       241   \n",
       "1   8/14/2018        9/2/2018        278          379         1   \n",
       "2  10/10/2018      10/12/2018        151          312         4   \n",
       "3   7/10/2018       7/10/2018        189          267         6   \n",
       "4   8/31/2018       9/14/2018        224          275         1   \n",
       "5   9/19/2018       9/20/2018         76          259       100   \n",
       "6   10/2/2018      10/14/2018         39          261         1   \n",
       "7   7/28/2018        8/4/2018        162          248         2   \n",
       "8   7/24/2018       8/12/2018        143          257         1   \n",
       "9   9/27/2018       9/30/2018         56          240       181   \n",
       "\n",
       "   san pham dau tien  \n",
       "0                  4  \n",
       "1                 19  \n",
       "2                  2  \n",
       "3                  0  \n",
       "4                 14  \n",
       "5                  1  \n",
       "6                 12  \n",
       "7                  7  \n",
       "8                 19  \n",
       "9                  3  "
      ]
     },
     "execution_count": 28,
     "metadata": {},
     "output_type": "execute_result"
    }
   ],
   "source": [
    "#Show dữ liệu\n",
    "df.head(10)"
   ]
  },
  {
   "cell_type": "code",
   "execution_count": 4,
   "id": "99bb209e",
   "metadata": {},
   "outputs": [
    {
     "name": "stdout",
     "output_type": "stream",
     "text": [
      "<class 'pandas.core.frame.DataFrame'>\n",
      "RangeIndex: 2145 entries, 0 to 2144\n",
      "Data columns (total 11 columns):\n",
      " #   Column                 Non-Null Count  Dtype \n",
      "---  ------                 --------------  ----- \n",
      " 0   Seller ID              2145 non-null   int64 \n",
      " 1   Sellers Main Category  2145 non-null   object\n",
      " 2   Sign-up Time           2145 non-null   object\n",
      " 3   Activation Time        2145 non-null   object\n",
      " 4   1st Listing            2145 non-null   object\n",
      " 5   1st Salable            2145 non-null   object\n",
      " 6   1st Transaction        2145 non-null   object\n",
      " 7   phe duyet              2145 non-null   int64 \n",
      " 8   sau thu tuc            2145 non-null   int64 \n",
      " 9   chuan bi               2145 non-null   int64 \n",
      " 10  san pham dau tien      2145 non-null   int64 \n",
      "dtypes: int64(5), object(6)\n",
      "memory usage: 184.5+ KB\n"
     ]
    }
   ],
   "source": [
    "#Kiểm tra dữ liệu\n",
    "df.info()"
   ]
  },
  {
   "cell_type": "code",
   "execution_count": 29,
   "id": "4d951a9c",
   "metadata": {},
   "outputs": [
    {
     "data": {
      "text/html": [
       "<div>\n",
       "<style scoped>\n",
       "    .dataframe tbody tr th:only-of-type {\n",
       "        vertical-align: middle;\n",
       "    }\n",
       "\n",
       "    .dataframe tbody tr th {\n",
       "        vertical-align: top;\n",
       "    }\n",
       "\n",
       "    .dataframe thead th {\n",
       "        text-align: right;\n",
       "    }\n",
       "</style>\n",
       "<table border=\"1\" class=\"dataframe\">\n",
       "  <thead>\n",
       "    <tr style=\"text-align: right;\">\n",
       "      <th></th>\n",
       "      <th>Seller ID</th>\n",
       "      <th>phe duyet</th>\n",
       "      <th>sau thu tuc</th>\n",
       "      <th>chuan bi</th>\n",
       "      <th>san pham dau tien</th>\n",
       "    </tr>\n",
       "  </thead>\n",
       "  <tbody>\n",
       "    <tr>\n",
       "      <th>count</th>\n",
       "      <td>2145.000000</td>\n",
       "      <td>2145.000000</td>\n",
       "      <td>2145.000000</td>\n",
       "      <td>2145.000000</td>\n",
       "      <td>2145.000000</td>\n",
       "    </tr>\n",
       "    <tr>\n",
       "      <th>mean</th>\n",
       "      <td>1073.000000</td>\n",
       "      <td>16.342191</td>\n",
       "      <td>51.762238</td>\n",
       "      <td>12.218182</td>\n",
       "      <td>11.131469</td>\n",
       "    </tr>\n",
       "    <tr>\n",
       "      <th>std</th>\n",
       "      <td>619.352484</td>\n",
       "      <td>23.741817</td>\n",
       "      <td>43.541961</td>\n",
       "      <td>20.501819</td>\n",
       "      <td>20.380166</td>\n",
       "    </tr>\n",
       "    <tr>\n",
       "      <th>min</th>\n",
       "      <td>1.000000</td>\n",
       "      <td>0.000000</td>\n",
       "      <td>1.000000</td>\n",
       "      <td>-2.000000</td>\n",
       "      <td>-9.000000</td>\n",
       "    </tr>\n",
       "    <tr>\n",
       "      <th>25%</th>\n",
       "      <td>537.000000</td>\n",
       "      <td>4.000000</td>\n",
       "      <td>22.000000</td>\n",
       "      <td>1.000000</td>\n",
       "      <td>1.000000</td>\n",
       "    </tr>\n",
       "    <tr>\n",
       "      <th>50%</th>\n",
       "      <td>1073.000000</td>\n",
       "      <td>8.000000</td>\n",
       "      <td>39.000000</td>\n",
       "      <td>5.000000</td>\n",
       "      <td>4.000000</td>\n",
       "    </tr>\n",
       "    <tr>\n",
       "      <th>75%</th>\n",
       "      <td>1609.000000</td>\n",
       "      <td>19.000000</td>\n",
       "      <td>69.000000</td>\n",
       "      <td>14.000000</td>\n",
       "      <td>12.000000</td>\n",
       "    </tr>\n",
       "    <tr>\n",
       "      <th>max</th>\n",
       "      <td>2145.000000</td>\n",
       "      <td>278.000000</td>\n",
       "      <td>385.000000</td>\n",
       "      <td>241.000000</td>\n",
       "      <td>193.000000</td>\n",
       "    </tr>\n",
       "  </tbody>\n",
       "</table>\n",
       "</div>"
      ],
      "text/plain": [
       "         Seller ID    phe duyet  sau thu tuc     chuan bi  san pham dau tien\n",
       "count  2145.000000  2145.000000  2145.000000  2145.000000        2145.000000\n",
       "mean   1073.000000    16.342191    51.762238    12.218182          11.131469\n",
       "std     619.352484    23.741817    43.541961    20.501819          20.380166\n",
       "min       1.000000     0.000000     1.000000    -2.000000          -9.000000\n",
       "25%     537.000000     4.000000    22.000000     1.000000           1.000000\n",
       "50%    1073.000000     8.000000    39.000000     5.000000           4.000000\n",
       "75%    1609.000000    19.000000    69.000000    14.000000          12.000000\n",
       "max    2145.000000   278.000000   385.000000   241.000000         193.000000"
      ]
     },
     "execution_count": 29,
     "metadata": {},
     "output_type": "execute_result"
    }
   ],
   "source": [
    "#thống kê dữ liệu\n",
    "df.describe()"
   ]
  },
  {
   "cell_type": "code",
   "execution_count": 32,
   "id": "24e2204b",
   "metadata": {},
   "outputs": [
    {
     "data": {
      "text/html": [
       "<div>\n",
       "<style scoped>\n",
       "    .dataframe tbody tr th:only-of-type {\n",
       "        vertical-align: middle;\n",
       "    }\n",
       "\n",
       "    .dataframe tbody tr th {\n",
       "        vertical-align: top;\n",
       "    }\n",
       "\n",
       "    .dataframe thead th {\n",
       "        text-align: right;\n",
       "    }\n",
       "</style>\n",
       "<table border=\"1\" class=\"dataframe\">\n",
       "  <thead>\n",
       "    <tr style=\"text-align: right;\">\n",
       "      <th></th>\n",
       "      <th>Seller ID</th>\n",
       "      <th>phe duyet</th>\n",
       "      <th>sau thu tuc</th>\n",
       "      <th>chuan bi</th>\n",
       "      <th>san pham dau tien</th>\n",
       "    </tr>\n",
       "  </thead>\n",
       "  <tbody>\n",
       "    <tr>\n",
       "      <th>Seller ID</th>\n",
       "      <td>1.000000</td>\n",
       "      <td>-0.499467</td>\n",
       "      <td>-0.742831</td>\n",
       "      <td>-0.447818</td>\n",
       "      <td>0.009057</td>\n",
       "    </tr>\n",
       "    <tr>\n",
       "      <th>phe duyet</th>\n",
       "      <td>-0.499467</td>\n",
       "      <td>1.000000</td>\n",
       "      <td>0.614339</td>\n",
       "      <td>0.160433</td>\n",
       "      <td>0.086578</td>\n",
       "    </tr>\n",
       "    <tr>\n",
       "      <th>sau thu tuc</th>\n",
       "      <td>-0.742831</td>\n",
       "      <td>0.614339</td>\n",
       "      <td>1.000000</td>\n",
       "      <td>0.438140</td>\n",
       "      <td>0.435293</td>\n",
       "    </tr>\n",
       "    <tr>\n",
       "      <th>chuan bi</th>\n",
       "      <td>-0.447818</td>\n",
       "      <td>0.160433</td>\n",
       "      <td>0.438140</td>\n",
       "      <td>1.000000</td>\n",
       "      <td>-0.060660</td>\n",
       "    </tr>\n",
       "    <tr>\n",
       "      <th>san pham dau tien</th>\n",
       "      <td>0.009057</td>\n",
       "      <td>0.086578</td>\n",
       "      <td>0.435293</td>\n",
       "      <td>-0.060660</td>\n",
       "      <td>1.000000</td>\n",
       "    </tr>\n",
       "  </tbody>\n",
       "</table>\n",
       "</div>"
      ],
      "text/plain": [
       "                   Seller ID  phe duyet  sau thu tuc  chuan bi  \\\n",
       "Seller ID           1.000000  -0.499467    -0.742831 -0.447818   \n",
       "phe duyet          -0.499467   1.000000     0.614339  0.160433   \n",
       "sau thu tuc        -0.742831   0.614339     1.000000  0.438140   \n",
       "chuan bi           -0.447818   0.160433     0.438140  1.000000   \n",
       "san pham dau tien   0.009057   0.086578     0.435293 -0.060660   \n",
       "\n",
       "                   san pham dau tien  \n",
       "Seller ID                   0.009057  \n",
       "phe duyet                   0.086578  \n",
       "sau thu tuc                 0.435293  \n",
       "chuan bi                   -0.060660  \n",
       "san pham dau tien           1.000000  "
      ]
     },
     "execution_count": 32,
     "metadata": {},
     "output_type": "execute_result"
    }
   ],
   "source": [
    "# Chỉ số tương quan\n",
    "df.corr()"
   ]
  },
  {
   "cell_type": "markdown",
   "id": "17985950",
   "metadata": {},
   "source": [
    "### 1. Ngành hàng được bán nhiều nhất trên ABC.vn\n",
    "\n",
    "- Ngành hàng bán được nhiều nhất trên trang thương mại điện tử của ABC là BBFF\n",
    "- ABC.vn là trang thương mại điện tử bán với các mặt hàng phổ biển là thời trang như BBFF và Life Style "
   ]
  },
  {
   "cell_type": "code",
   "execution_count": 75,
   "id": "2f20731f",
   "metadata": {},
   "outputs": [
    {
     "data": {
      "text/plain": [
       "BBFF               1130\n",
       "LifeStyle           501\n",
       "Electronic          262\n",
       "Book                130\n",
       "Digital Service     122\n",
       "Name: Sellers Main Category, dtype: int64"
      ]
     },
     "execution_count": 75,
     "metadata": {},
     "output_type": "execute_result"
    }
   ],
   "source": [
    "# Ngành hàng được bán nhiều nhất trên ABC.vn\n",
    "df['Sellers Main Category'].value_counts()"
   ]
  },
  {
   "cell_type": "code",
   "execution_count": 31,
   "id": "3b01203a",
   "metadata": {},
   "outputs": [
    {
     "data": {
      "text/plain": [
       "Text(0.5, 0, 'Sellers Main Category')"
      ]
     },
     "execution_count": 31,
     "metadata": {},
     "output_type": "execute_result"
    },
    {
     "data": {
      "image/png": "[encoded data removed]",
      "text/plain": [
       "<Figure size 432x288 with 1 Axes>"
      ]
     },
     "metadata": {},
     "output_type": "display_data"
    }
   ],
   "source": [
    "# Ngành hàng được bán nhiều nhất trên ABC.vn\n",
    "sns.histplot(df['Sellers Main Category']) # distplot, histplot\n",
    "sns.set_style('darkgrid')\n",
    "plt.title('Ngành hàng được bán nhiều nhất trên ABC.vn', fontsize=14)\n",
    "plt.ylabel('Frequency', fontsize=10)\n",
    "plt.xlabel('Sellers Main Category', fontsize=10)"
   ]
  },
  {
   "cell_type": "markdown",
   "id": "4fe55de1",
   "metadata": {},
   "source": [
    "### 2. Thời gian"
   ]
  },
  {
   "cell_type": "markdown",
   "id": "196bf7c1",
   "metadata": {},
   "source": [
    "<font color = 'blue'> <b> 2.1 Thời gian chuẩn bị sản phẩm để bán </font>"
   ]
  },
  {
   "cell_type": "code",
   "execution_count": 74,
   "id": "c5ebc404",
   "metadata": {},
   "outputs": [
    {
     "data": {
      "text/plain": [
       "Text(0.5, 0.98, 'Thời gian chuẩn bị')"
      ]
     },
     "execution_count": 74,
     "metadata": {},
     "output_type": "execute_result"
    },
    {
     "data": {
      "image/png": "[encoded data removed]",
      "text/plain": [
       "<Figure size 1080x432 with 2 Axes>"
      ]
     },
     "metadata": {},
     "output_type": "display_data"
    }
   ],
   "source": [
    "# Thời gian chuẩn bị sản phẩm để bán\n",
    "\n",
    "#xác định vùng vẽ biểu đồ (1 hàng, 2 cột)\n",
    "fig, axes = plt.subplots(1, 2, figsize=(15,6))\n",
    "\n",
    "#create boxplot in each subplot\n",
    "sns.boxplot(x = df['chuan bi'], color='cyan', ax=axes[0])\n",
    "axes[0].set_title('boxplot', fontsize=14)\n",
    "sns.histplot(df['chuan bi'], ax=axes[1])\n",
    "axes[1].set_title('histplot', fontsize=14)\n",
    "fig.suptitle('Thời gian chuẩn bị', fontsize=16)"
   ]
  },
  {
   "cell_type": "code",
   "execution_count": 44,
   "id": "a803eb61",
   "metadata": {},
   "outputs": [
    {
     "data": {
      "text/plain": [
       "count    2145.000000\n",
       "mean       12.218182\n",
       "std        20.501819\n",
       "min        -2.000000\n",
       "25%         1.000000\n",
       "50%         5.000000\n",
       "75%        14.000000\n",
       "max       241.000000\n",
       "Name: chuan bi, dtype: float64"
      ]
     },
     "execution_count": 44,
     "metadata": {},
     "output_type": "execute_result"
    }
   ],
   "source": [
    "#Thống kê\n",
    "df['chuan bi'].describe()"
   ]
  },
  {
   "cell_type": "markdown",
   "id": "92a49548",
   "metadata": {},
   "source": [
    "- Từ biểu đồ trên ta có thể thấy Thời gian chuẩn bị trung bình của người bán từ lúc sản phẩm được listing cho đến lúc có thể bán được trong **khoảng 1 đến 14 ngày**\n",
    "- Thời gian chuẩn bị thấp nhất là **-2 ngày** có thể do hệ thống tính toán ngày bị lỗi\n",
    "- Thời gian chuẩn bị lâu nhất của người bán cho đến lúc sản phẩm có thể mua được lên đến **241 ngày**"
   ]
  },
  {
   "cell_type": "markdown",
   "id": "9cff15c8",
   "metadata": {},
   "source": [
    "<font color = 'blue'> <b> 2.2 Thời gian chờ phê duyệt </font>"
   ]
  },
  {
   "cell_type": "code",
   "execution_count": 37,
   "id": "57a1e035",
   "metadata": {},
   "outputs": [
    {
     "data": {
      "text/plain": [
       "Text(0.5, 0.98, 'Thời gian chờ phê duyệt')"
      ]
     },
     "execution_count": 37,
     "metadata": {},
     "output_type": "execute_result"
    },
    {
     "data": {
      "image/png": "[encoded data removed]",
      "text/plain": [
       "<Figure size 1080x432 with 2 Axes>"
      ]
     },
     "metadata": {},
     "output_type": "display_data"
    }
   ],
   "source": [
    "# Thời gian chờ phê duyệt\n",
    "\n",
    "#xác định vùng vẽ biểu đồ (1 hàng, 2 cột)\n",
    "fig, axes = plt.subplots(1, 2, figsize=(15,6))\n",
    "\n",
    "#create boxplot in each subplot\n",
    "sns.boxplot(x = df['phe duyet'], color='cyan', ax=axes[0])\n",
    "axes[0].set_title('boxplot', fontsize=14)\n",
    "sns.histplot(df['phe duyet'], ax=axes[1])\n",
    "axes[1].set_title('histplot', fontsize=14)\n",
    "fig.suptitle('Thời gian chờ phê duyệt', fontsize=16)"
   ]
  },
  {
   "cell_type": "code",
   "execution_count": 52,
   "id": "4cb26c61",
   "metadata": {},
   "outputs": [
    {
     "data": {
      "text/plain": [
       "count    2145.000000\n",
       "mean       16.342191\n",
       "std        23.741817\n",
       "min         0.000000\n",
       "25%         4.000000\n",
       "50%         8.000000\n",
       "75%        19.000000\n",
       "max       278.000000\n",
       "Name: phe duyet, dtype: float64"
      ]
     },
     "execution_count": 52,
     "metadata": {},
     "output_type": "execute_result"
    }
   ],
   "source": [
    "df['phe duyet'].describe() #thống kê"
   ]
  },
  {
   "cell_type": "markdown",
   "id": "b1762812",
   "metadata": {},
   "source": [
    "- Thời gian gian từ lúc đăng ký cho đến lúc người bán được phê duyệt trong khoảng từ **4 ngày đến 19 ngày**.\n",
    "- Thời gian ngắn nhất mà người bán phải đợi phê duyệt là **ngay trong ngày**.\n",
    "- Thời gian lâu nhất mà người bán phải đợi phê duyệt là **278 ngày**."
   ]
  },
  {
   "cell_type": "markdown",
   "id": "efb0c7fa",
   "metadata": {},
   "source": [
    "<font color = 'blue'> <b> 2.3 Thời gian từ lúc đăng kí đến lúc bán được đơn đầu tiên </font>"
   ]
  },
  {
   "cell_type": "code",
   "execution_count": 38,
   "id": "7b7c107f",
   "metadata": {},
   "outputs": [
    {
     "data": {
      "text/plain": [
       "Text(0.5, 0.98, 'Thời gian chuẩn bị')"
      ]
     },
     "execution_count": 38,
     "metadata": {},
     "output_type": "execute_result"
    },
    {
     "data": {
      "image/png": "[encoded data removed]",
      "text/plain": [
       "<Figure size 1080x432 with 2 Axes>"
      ]
     },
     "metadata": {},
     "output_type": "display_data"
    }
   ],
   "source": [
    "# Thời gian từ lúc đăng kí đến lúc bán được đơn đầu tiên\n",
    "\n",
    "#xác định vùng vẽ biểu đồ (1 hàng, 2 cột)\n",
    "fig, axes = plt.subplots(1, 2, figsize=(15,6))\n",
    "\n",
    "#create boxplot in each subplot\n",
    "sns.boxplot(x = df['sau thu tuc'], color='cyan', ax=axes[0])\n",
    "axes[0].set_title('boxplot', fontsize=14)\n",
    "sns.histplot(df['sau thu tuc'], ax=axes[1])\n",
    "axes[1].set_title('histplot', fontsize=14)\n",
    "fig.suptitle('Thời gian chuẩn bị', fontsize=16)"
   ]
  },
  {
   "cell_type": "code",
   "execution_count": 50,
   "id": "ad0fa517",
   "metadata": {},
   "outputs": [
    {
     "data": {
      "text/plain": [
       "count    2145.000000\n",
       "mean       51.762238\n",
       "std        43.541961\n",
       "min         1.000000\n",
       "25%        22.000000\n",
       "50%        39.000000\n",
       "75%        69.000000\n",
       "max       385.000000\n",
       "Name: sau thu tuc, dtype: float64"
      ]
     },
     "execution_count": 50,
     "metadata": {},
     "output_type": "execute_result"
    }
   ],
   "source": [
    "df['sau thu tuc'].describe() #thống kê"
   ]
  },
  {
   "cell_type": "markdown",
   "id": "96a509bb",
   "metadata": {},
   "source": [
    "- Thời gian mà người bán hoàn tất mọi thủ tục cho đến lúc có được đơn hàng đầu tiên vào khoảng từ **22 đến 69 ngày**\n",
    "- Thời gian thấp nhất mà người bán hoàn tất mọi thủ tục là vào khoảng **1 ngày**\n",
    "- Thời gian lâu nhất mà người bán hoàn tất mọi thủ tục lên đến hơn 1 năm cụ thể là **385 ngày**"
   ]
  },
  {
   "cell_type": "markdown",
   "id": "2b259b4b",
   "metadata": {},
   "source": [
    "<font color = 'blue'> <b> 2.4 Thời gian từ lúc đăng kí đến lúc bán được đơn đầu tiên </font>"
   ]
  },
  {
   "cell_type": "code",
   "execution_count": 39,
   "id": "207e9de9",
   "metadata": {},
   "outputs": [
    {
     "data": {
      "text/plain": [
       "Text(0.5, 0.98, 'Thời gian bán được sản phẩm đầu tiên')"
      ]
     },
     "execution_count": 39,
     "metadata": {},
     "output_type": "execute_result"
    },
    {
     "data": {
      "image/png": "[encoded data removed]",
      "text/plain": [
       "<Figure size 1080x432 with 2 Axes>"
      ]
     },
     "metadata": {},
     "output_type": "display_data"
    }
   ],
   "source": [
    "# Thời gian bán được sản phẩm đầu tiên\n",
    "\n",
    "#xác định vùng vẽ biểu đồ (1 hàng, 2 cột)\n",
    "fig, axes = plt.subplots(1, 2, figsize=(15,6))\n",
    "\n",
    "#create boxplot in each subplot\n",
    "sns.boxplot(x = df['san pham dau tien'], color='cyan', ax=axes[0])\n",
    "axes[0].set_title('boxplot', fontsize=14)\n",
    "sns.histplot(df['san pham dau tien'], ax=axes[1])\n",
    "axes[1].set_title('histplot', fontsize=14)\n",
    "fig.suptitle('Thời gian bán được sản phẩm đầu tiên', fontsize=16)"
   ]
  },
  {
   "cell_type": "code",
   "execution_count": 54,
   "id": "4e86d3ed",
   "metadata": {},
   "outputs": [
    {
     "data": {
      "text/plain": [
       "count    2145.000000\n",
       "mean       11.131469\n",
       "std        20.380166\n",
       "min        -9.000000\n",
       "25%         1.000000\n",
       "50%         4.000000\n",
       "75%        12.000000\n",
       "max       193.000000\n",
       "Name: san pham dau tien, dtype: float64"
      ]
     },
     "execution_count": 54,
     "metadata": {},
     "output_type": "execute_result"
    }
   ],
   "source": [
    "#thống kê\n",
    "df['san pham dau tien'].describe()"
   ]
  },
  {
   "cell_type": "markdown",
   "id": "7d594b5b",
   "metadata": {},
   "source": [
    "- Thời gian từ lúc sản phẩm của người bán có thể mua được đến lúc có đơn hàng đầu tiên trong khoảng từ **1 đến 12 ngày*\n",
    "- Thời gian sớm nhất từ lúc sản phẩm của người bán có thể mua được đến lúc có đơn hàng đầu tiên là **-9 ngày** (Có thể do hệ thống tính ngày bị lỗi hoặc do người bán đã listing sản phẩm và cho đặt trước ngày đến ngày mua được hàng)\n",
    "- Thời gian lâu nhất từ lúc sản phẩm của người bán được phê duyệt đến lúc có được đơn hàng đầu tiên lên tới **193 ngày**"
   ]
  },
  {
   "cell_type": "code",
   "execution_count": 72,
   "id": "68f125ee",
   "metadata": {},
   "outputs": [
    {
     "data": {
      "text/html": [
       "<div>\n",
       "<style scoped>\n",
       "    .dataframe tbody tr th:only-of-type {\n",
       "        vertical-align: middle;\n",
       "    }\n",
       "\n",
       "    .dataframe tbody tr th {\n",
       "        vertical-align: top;\n",
       "    }\n",
       "\n",
       "    .dataframe thead th {\n",
       "        text-align: right;\n",
       "    }\n",
       "</style>\n",
       "<table border=\"1\" class=\"dataframe\">\n",
       "  <thead>\n",
       "    <tr style=\"text-align: right;\">\n",
       "      <th></th>\n",
       "      <th>Seller ID</th>\n",
       "      <th>Sellers Main Category</th>\n",
       "      <th>Sign-up Time</th>\n",
       "      <th>Activation Time</th>\n",
       "      <th>1st Listing</th>\n",
       "      <th>1st Salable</th>\n",
       "      <th>1st Transaction</th>\n",
       "      <th>phe duyet</th>\n",
       "      <th>sau thu tuc</th>\n",
       "      <th>chuan bi</th>\n",
       "      <th>san pham dau tien</th>\n",
       "    </tr>\n",
       "  </thead>\n",
       "  <tbody>\n",
       "    <tr>\n",
       "      <th>1</th>\n",
       "      <td>2</td>\n",
       "      <td>BBFF</td>\n",
       "      <td>8/19/2017</td>\n",
       "      <td>5/24/2018</td>\n",
       "      <td>8/13/2018</td>\n",
       "      <td>8/14/2018</td>\n",
       "      <td>9/2/2018</td>\n",
       "      <td>278</td>\n",
       "      <td>379</td>\n",
       "      <td>1</td>\n",
       "      <td>19</td>\n",
       "    </tr>\n",
       "    <tr>\n",
       "      <th>4</th>\n",
       "      <td>5</td>\n",
       "      <td>BBFF</td>\n",
       "      <td>12/13/2017</td>\n",
       "      <td>7/25/2018</td>\n",
       "      <td>8/30/2018</td>\n",
       "      <td>8/31/2018</td>\n",
       "      <td>9/14/2018</td>\n",
       "      <td>224</td>\n",
       "      <td>275</td>\n",
       "      <td>1</td>\n",
       "      <td>14</td>\n",
       "    </tr>\n",
       "    <tr>\n",
       "      <th>3</th>\n",
       "      <td>4</td>\n",
       "      <td>BBFF</td>\n",
       "      <td>10/16/2017</td>\n",
       "      <td>4/23/2018</td>\n",
       "      <td>7/4/2018</td>\n",
       "      <td>7/10/2018</td>\n",
       "      <td>7/10/2018</td>\n",
       "      <td>189</td>\n",
       "      <td>267</td>\n",
       "      <td>6</td>\n",
       "      <td>0</td>\n",
       "    </tr>\n",
       "    <tr>\n",
       "      <th>11</th>\n",
       "      <td>12</td>\n",
       "      <td>LifeStyle</td>\n",
       "      <td>10/12/2017</td>\n",
       "      <td>4/11/2018</td>\n",
       "      <td>4/27/2018</td>\n",
       "      <td>5/30/2018</td>\n",
       "      <td>6/6/2018</td>\n",
       "      <td>181</td>\n",
       "      <td>237</td>\n",
       "      <td>33</td>\n",
       "      <td>7</td>\n",
       "    </tr>\n",
       "    <tr>\n",
       "      <th>21</th>\n",
       "      <td>22</td>\n",
       "      <td>BBFF</td>\n",
       "      <td>2/2/2018</td>\n",
       "      <td>7/30/2018</td>\n",
       "      <td>7/31/2018</td>\n",
       "      <td>8/2/2018</td>\n",
       "      <td>8/5/2018</td>\n",
       "      <td>178</td>\n",
       "      <td>184</td>\n",
       "      <td>2</td>\n",
       "      <td>3</td>\n",
       "    </tr>\n",
       "    <tr>\n",
       "      <th>7</th>\n",
       "      <td>8</td>\n",
       "      <td>LifeStyle</td>\n",
       "      <td>11/29/2017</td>\n",
       "      <td>5/10/2018</td>\n",
       "      <td>7/26/2018</td>\n",
       "      <td>7/28/2018</td>\n",
       "      <td>8/4/2018</td>\n",
       "      <td>162</td>\n",
       "      <td>248</td>\n",
       "      <td>2</td>\n",
       "      <td>7</td>\n",
       "    </tr>\n",
       "    <tr>\n",
       "      <th>35</th>\n",
       "      <td>36</td>\n",
       "      <td>Electronic</td>\n",
       "      <td>4/26/2018</td>\n",
       "      <td>10/3/2018</td>\n",
       "      <td>10/9/2018</td>\n",
       "      <td>10/11/2018</td>\n",
       "      <td>10/18/2018</td>\n",
       "      <td>160</td>\n",
       "      <td>175</td>\n",
       "      <td>2</td>\n",
       "      <td>7</td>\n",
       "    </tr>\n",
       "    <tr>\n",
       "      <th>33</th>\n",
       "      <td>34</td>\n",
       "      <td>LifeStyle</td>\n",
       "      <td>4/19/2018</td>\n",
       "      <td>9/25/2018</td>\n",
       "      <td>9/26/2018</td>\n",
       "      <td>10/4/2018</td>\n",
       "      <td>10/5/2018</td>\n",
       "      <td>159</td>\n",
       "      <td>169</td>\n",
       "      <td>8</td>\n",
       "      <td>1</td>\n",
       "    </tr>\n",
       "    <tr>\n",
       "      <th>25</th>\n",
       "      <td>26</td>\n",
       "      <td>BBFF</td>\n",
       "      <td>11/28/2017</td>\n",
       "      <td>5/3/2018</td>\n",
       "      <td>5/23/2018</td>\n",
       "      <td>5/25/2018</td>\n",
       "      <td>7/19/2018</td>\n",
       "      <td>156</td>\n",
       "      <td>233</td>\n",
       "      <td>2</td>\n",
       "      <td>55</td>\n",
       "    </tr>\n",
       "    <tr>\n",
       "      <th>44</th>\n",
       "      <td>45</td>\n",
       "      <td>LifeStyle</td>\n",
       "      <td>4/18/2018</td>\n",
       "      <td>9/21/2018</td>\n",
       "      <td>9/13/2018</td>\n",
       "      <td>9/21/2018</td>\n",
       "      <td>10/4/2018</td>\n",
       "      <td>156</td>\n",
       "      <td>169</td>\n",
       "      <td>8</td>\n",
       "      <td>13</td>\n",
       "    </tr>\n",
       "    <tr>\n",
       "      <th>2</th>\n",
       "      <td>3</td>\n",
       "      <td>BBFF</td>\n",
       "      <td>12/4/2017</td>\n",
       "      <td>5/4/2018</td>\n",
       "      <td>10/6/2018</td>\n",
       "      <td>10/10/2018</td>\n",
       "      <td>10/12/2018</td>\n",
       "      <td>151</td>\n",
       "      <td>312</td>\n",
       "      <td>4</td>\n",
       "      <td>2</td>\n",
       "    </tr>\n",
       "    <tr>\n",
       "      <th>8</th>\n",
       "      <td>9</td>\n",
       "      <td>BBFF</td>\n",
       "      <td>11/28/2017</td>\n",
       "      <td>4/20/2018</td>\n",
       "      <td>7/23/2018</td>\n",
       "      <td>7/24/2018</td>\n",
       "      <td>8/12/2018</td>\n",
       "      <td>143</td>\n",
       "      <td>257</td>\n",
       "      <td>1</td>\n",
       "      <td>19</td>\n",
       "    </tr>\n",
       "    <tr>\n",
       "      <th>57</th>\n",
       "      <td>58</td>\n",
       "      <td>Digital Service</td>\n",
       "      <td>3/23/2018</td>\n",
       "      <td>8/9/2018</td>\n",
       "      <td>4/2/2018</td>\n",
       "      <td>8/16/2018</td>\n",
       "      <td>10/10/2018</td>\n",
       "      <td>139</td>\n",
       "      <td>201</td>\n",
       "      <td>136</td>\n",
       "      <td>55</td>\n",
       "    </tr>\n",
       "    <tr>\n",
       "      <th>0</th>\n",
       "      <td>1</td>\n",
       "      <td>Electronic</td>\n",
       "      <td>9/20/2017</td>\n",
       "      <td>2/2/2018</td>\n",
       "      <td>2/7/2018</td>\n",
       "      <td>10/6/2018</td>\n",
       "      <td>10/10/2018</td>\n",
       "      <td>135</td>\n",
       "      <td>385</td>\n",
       "      <td>241</td>\n",
       "      <td>4</td>\n",
       "    </tr>\n",
       "    <tr>\n",
       "      <th>23</th>\n",
       "      <td>24</td>\n",
       "      <td>Electronic</td>\n",
       "      <td>9/24/2017</td>\n",
       "      <td>2/5/2018</td>\n",
       "      <td>3/19/2018</td>\n",
       "      <td>3/22/2018</td>\n",
       "      <td>3/31/2018</td>\n",
       "      <td>134</td>\n",
       "      <td>188</td>\n",
       "      <td>3</td>\n",
       "      <td>9</td>\n",
       "    </tr>\n",
       "    <tr>\n",
       "      <th>78</th>\n",
       "      <td>79</td>\n",
       "      <td>LifeStyle</td>\n",
       "      <td>5/16/2018</td>\n",
       "      <td>9/26/2018</td>\n",
       "      <td>9/26/2018</td>\n",
       "      <td>9/27/2018</td>\n",
       "      <td>9/27/2018</td>\n",
       "      <td>133</td>\n",
       "      <td>134</td>\n",
       "      <td>1</td>\n",
       "      <td>0</td>\n",
       "    </tr>\n",
       "    <tr>\n",
       "      <th>80</th>\n",
       "      <td>81</td>\n",
       "      <td>Digital Service</td>\n",
       "      <td>1/10/2018</td>\n",
       "      <td>5/22/2018</td>\n",
       "      <td>5/22/2018</td>\n",
       "      <td>5/23/2018</td>\n",
       "      <td>5/29/2018</td>\n",
       "      <td>132</td>\n",
       "      <td>139</td>\n",
       "      <td>1</td>\n",
       "      <td>6</td>\n",
       "    </tr>\n",
       "    <tr>\n",
       "      <th>99</th>\n",
       "      <td>100</td>\n",
       "      <td>Book</td>\n",
       "      <td>5/18/2018</td>\n",
       "      <td>9/24/2018</td>\n",
       "      <td>8/28/2018</td>\n",
       "      <td>9/19/2018</td>\n",
       "      <td>10/1/2018</td>\n",
       "      <td>129</td>\n",
       "      <td>136</td>\n",
       "      <td>22</td>\n",
       "      <td>12</td>\n",
       "    </tr>\n",
       "    <tr>\n",
       "      <th>87</th>\n",
       "      <td>88</td>\n",
       "      <td>BBFF</td>\n",
       "      <td>4/16/2018</td>\n",
       "      <td>8/21/2018</td>\n",
       "      <td>8/22/2018</td>\n",
       "      <td>8/23/2018</td>\n",
       "      <td>9/26/2018</td>\n",
       "      <td>127</td>\n",
       "      <td>163</td>\n",
       "      <td>1</td>\n",
       "      <td>34</td>\n",
       "    </tr>\n",
       "    <tr>\n",
       "      <th>77</th>\n",
       "      <td>78</td>\n",
       "      <td>LifeStyle</td>\n",
       "      <td>4/11/2018</td>\n",
       "      <td>8/15/2018</td>\n",
       "      <td>8/16/2018</td>\n",
       "      <td>8/25/2018</td>\n",
       "      <td>8/29/2018</td>\n",
       "      <td>126</td>\n",
       "      <td>140</td>\n",
       "      <td>9</td>\n",
       "      <td>4</td>\n",
       "    </tr>\n",
       "  </tbody>\n",
       "</table>\n",
       "</div>"
      ],
      "text/plain": [
       "    Seller ID Sellers Main Category Sign-up Time Activation Time 1st Listing  \\\n",
       "1           2                  BBFF    8/19/2017       5/24/2018   8/13/2018   \n",
       "4           5                  BBFF   12/13/2017       7/25/2018   8/30/2018   \n",
       "3           4                  BBFF   10/16/2017       4/23/2018    7/4/2018   \n",
       "11         12             LifeStyle   10/12/2017       4/11/2018   4/27/2018   \n",
       "21         22                  BBFF     2/2/2018       7/30/2018   7/31/2018   \n",
       "7           8             LifeStyle   11/29/2017       5/10/2018   7/26/2018   \n",
       "35         36            Electronic    4/26/2018       10/3/2018   10/9/2018   \n",
       "33         34             LifeStyle    4/19/2018       9/25/2018   9/26/2018   \n",
       "25         26                  BBFF   11/28/2017        5/3/2018   5/23/2018   \n",
       "44         45             LifeStyle    4/18/2018       9/21/2018   9/13/2018   \n",
       "2           3                  BBFF    12/4/2017        5/4/2018   10/6/2018   \n",
       "8           9                  BBFF   11/28/2017       4/20/2018   7/23/2018   \n",
       "57         58       Digital Service    3/23/2018        8/9/2018    4/2/2018   \n",
       "0           1            Electronic    9/20/2017        2/2/2018    2/7/2018   \n",
       "23         24            Electronic    9/24/2017        2/5/2018   3/19/2018   \n",
       "78         79             LifeStyle    5/16/2018       9/26/2018   9/26/2018   \n",
       "80         81       Digital Service    1/10/2018       5/22/2018   5/22/2018   \n",
       "99        100                  Book    5/18/2018       9/24/2018   8/28/2018   \n",
       "87         88                  BBFF    4/16/2018       8/21/2018   8/22/2018   \n",
       "77         78             LifeStyle    4/11/2018       8/15/2018   8/16/2018   \n",
       "\n",
       "   1st Salable 1st Transaction  phe duyet  sau thu tuc  chuan bi  \\\n",
       "1    8/14/2018        9/2/2018        278          379         1   \n",
       "4    8/31/2018       9/14/2018        224          275         1   \n",
       "3    7/10/2018       7/10/2018        189          267         6   \n",
       "11   5/30/2018        6/6/2018        181          237        33   \n",
       "21    8/2/2018        8/5/2018        178          184         2   \n",
       "7    7/28/2018        8/4/2018        162          248         2   \n",
       "35  10/11/2018      10/18/2018        160          175         2   \n",
       "33   10/4/2018       10/5/2018        159          169         8   \n",
       "25   5/25/2018       7/19/2018        156          233         2   \n",
       "44   9/21/2018       10/4/2018        156          169         8   \n",
       "2   10/10/2018      10/12/2018        151          312         4   \n",
       "8    7/24/2018       8/12/2018        143          257         1   \n",
       "57   8/16/2018      10/10/2018        139          201       136   \n",
       "0    10/6/2018      10/10/2018        135          385       241   \n",
       "23   3/22/2018       3/31/2018        134          188         3   \n",
       "78   9/27/2018       9/27/2018        133          134         1   \n",
       "80   5/23/2018       5/29/2018        132          139         1   \n",
       "99   9/19/2018       10/1/2018        129          136        22   \n",
       "87   8/23/2018       9/26/2018        127          163         1   \n",
       "77   8/25/2018       8/29/2018        126          140         9   \n",
       "\n",
       "    san pham dau tien  \n",
       "1                  19  \n",
       "4                  14  \n",
       "3                   0  \n",
       "11                  7  \n",
       "21                  3  \n",
       "7                   7  \n",
       "35                  7  \n",
       "33                  1  \n",
       "25                 55  \n",
       "44                 13  \n",
       "2                   2  \n",
       "8                  19  \n",
       "57                 55  \n",
       "0                   4  \n",
       "23                  9  \n",
       "78                  0  \n",
       "80                  6  \n",
       "99                 12  \n",
       "87                 34  \n",
       "77                  4  "
      ]
     },
     "execution_count": 72,
     "metadata": {},
     "output_type": "execute_result"
    }
   ],
   "source": [
    "# Lọc ra thời gian phê duyệt lâu nhất từ đó ta thấy những ngày này thường ở vào nửa cuối năm 2017 và đầu 2018\n",
    "df.sort_values('phe duyet', ascending=False).head(20)"
   ]
  },
  {
   "cell_type": "markdown",
   "id": "86793120",
   "metadata": {},
   "source": [
    "- Người bán trên Web ABC.vn trong đăng kí trong năm 2017 phải chờ đợi cho đến khi có được đơn hàng đầu tiên khá lâu có thể lên tới 278. Tuy nhiên vào năm 2018 thời gian chờ đợi đã giảm và người bán được phê duyệt nhanh hơn"
   ]
  },
  {
   "cell_type": "markdown",
   "id": "a14ebf1e",
   "metadata": {},
   "source": [
    "### 3. Vấn đề của ABC.vn"
   ]
  },
  {
   "cell_type": "markdown",
   "id": "a9eb7a35",
   "metadata": {},
   "source": [
    "- Thời gian chờ phê duyệt khá lâu từ **4 đến 19 ngày** từ lúc đăng kí và thời gian được phê duyệt sản phẩm là từ **1 đến 14 ngày**.\n",
    "- Thời gian mà người bán làm hết thủ tục cho đến khi có được đơn hàng đầu tiên khá lâu từ **22 đến 69 ngày**.\n",
    "- Hệ thống của ABC.vn đôi lúc bị lỗi khi ghi nhận thời gian âm tức là người bán chưa listing hoặc chưa được phê duyệt đã có người mua đơn hàng đó (ví dụ như Thời gian sớm nhất từ lúc sản phẩm của người bán có thể mua được đến lúc có đơn hàng đầu tiên là **-9 ngày** - hay Thời gian chuẩn bị là **-2 ngày**). "
   ]
  },
  {
   "cell_type": "markdown",
   "id": "a78570b5",
   "metadata": {},
   "source": [
    "### 4. Giải pháp cho ABC.vn"
   ]
  },
  {
   "cell_type": "markdown",
   "id": "6265853a",
   "metadata": {},
   "source": [
    "- Giảm thời gian phê duyệt cho người bán bảng một nửa so với thời gian hiện tại \n",
    "- Cải thiện hệ thống bán hàng để dữ liệu ghi lại được chính xác nhất\n",
    "- Gửi email hoặc liên lạc qua điện thoại thông báo cho người bán nếu như thời gian phê duyệt đăng ký hay thời gian phê duyệt sản phẩm quá lâu.\n",
    "- Thúc đẩy người bán bán bằng các chiến dịch CTA (Call to Action) như nhắc nhở, đưa ra những giải pháp qua email hoặc điện thoại để người bán hoàn thiện thủ tục đăng ký và listing sản phẩm nhanh hơn.\n",
    "- Đưa ra những gợi ý, giải pháp cho người bán để thu hút người mua hàng để được nhiều đơn hàng hơn, nhiều đánh giá tốt hơn qua email hoặc điện thoại "
   ]
  },
  {
   "cell_type": "code",
   "execution_count": null,
   "id": "1b32a714",
   "metadata": {},
   "outputs": [],
   "source": []
  }
 ],
 "metadata": {
  "kernelspec": {
   "display_name": "Python 3 (ipykernel)",
   "language": "python",
   "name": "python3"
  },
  "language_info": {
   "codemirror_mode": {
    "name": "ipython",
    "version": 3
   },
   "file_extension": ".py",
   "mimetype": "text/x-python",
   "name": "python",
   "nbconvert_exporter": "python",
   "pygments_lexer": "ipython3",
   "version": "3.8.8"
  }
 },
 "nbformat": 4,
 "nbformat_minor": 5
}
